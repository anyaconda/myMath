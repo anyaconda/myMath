{
 "cells": [
  {
   "cell_type": "code",
   "execution_count": 1,
   "metadata": {},
   "outputs": [],
   "source": [
    "#meta 10/19/2021 scikit-learn Pairwise Metrics - Distance, Affinities, Linear Kernel\n",
    "#look at X & Y vs X only"
   ]
  },
  {
   "cell_type": "code",
   "execution_count": 2,
   "metadata": {},
   "outputs": [],
   "source": [
    "import time\n",
    "import numpy as np\n",
    "%matplotlib inline\n",
    "import matplotlib.pyplot as plt\n",
    "\n",
    "from sklearn.metrics import pairwise_distances\n",
    "from sklearn.metrics.pairwise import pairwise_kernels, cosine_similarity\n"
   ]
  },
  {
   "cell_type": "markdown",
   "metadata": {},
   "source": [
    "# Pairwise metrics, Affinities and Kernels\n",
    "The `sklearn.metrics.pairwise` submodule implements utilities to evaluate pairwise distances or affinity of sets of samples.\n",
    "\n",
    "Distance metrics are functions `d(a, b)` such that `d(a, b) < d(a, c)` if objects `a` and `b` are considered “more similar” than objects `a` and `c`. \n",
    "\n",
    "Kernels are measures of similarity, i.e. `s(a, b) > s(a, c)` if objects `a` and `b` are considered “more similar” than objects `a` and `c`.\n",
    "\n",
    "There are a number of ways to convert between a distance metric and a similarity measure, such as a kernel.\n",
    "\n",
    "## X & Y"
   ]
  },
  {
   "cell_type": "code",
   "execution_count": 3,
   "metadata": {},
   "outputs": [],
   "source": [
    "X = np.array([[2, 3], [3, 5], [5, 8]])\n",
    "Y = np.array([[1, 0], [2, 1]])"
   ]
  },
  {
   "cell_type": "code",
   "execution_count": 4,
   "metadata": {},
   "outputs": [
    {
     "data": {
      "text/plain": [
       "<matplotlib.collections.PathCollection at 0x7fd6e30ab6d0>"
      ]
     },
     "execution_count": 4,
     "metadata": {},
     "output_type": "execute_result"
    },
    {
     "data": {
      "image/png": "[encoded data removed]",
      "text/plain": [
       "<Figure size 432x288 with 1 Axes>"
      ]
     },
     "metadata": {
      "needs_background": "light"
     },
     "output_type": "display_data"
    }
   ],
   "source": [
    "plt.scatter(X[:,0], X[:,1], marker='x', c='r')\n",
    "plt.scatter(Y[:,0], Y[:,1], marker='v', c='b')"
   ]
  },
  {
   "cell_type": "markdown",
   "metadata": {},
   "source": [
    "### Pairwise Distances: X & Y\n",
    "The distances between the row vectors of `X` and the row vectors of `Y` can be evaluated using `pairwise_distances`. \n",
    "\n",
    "2-1 + 3-0   &   2-2 + 3-1  \n",
    "3-1 + 5-0   &   3-2 + 5-1  \n",
    "5-1 + 8-0   &   5-2 + 8-1  "
   ]
  },
  {
   "cell_type": "code",
   "execution_count": 5,
   "metadata": {},
   "outputs": [
    {
     "data": {
      "text/plain": [
       "array([[ 4.,  2.],\n",
       "       [ 7.,  5.],\n",
       "       [12., 10.]])"
      ]
     },
     "execution_count": 5,
     "metadata": {},
     "output_type": "execute_result"
    }
   ],
   "source": [
    "#manhattan distance\n",
    "pairwise_distances(X, Y, metric='manhattan')"
   ]
  },
  {
   "cell_type": "markdown",
   "metadata": {},
   "source": [
    "Smallest of the three: between X1 and Y2 = 2"
   ]
  },
  {
   "cell_type": "markdown",
   "metadata": {},
   "source": [
    "### Pairwise  Kernels: X & Y\n",
    "Similarly, `pairwise.pairwise_kernels` can be used to calculate the kernel between `X` and `Y` using different kernel functions. See the API reference for more details.\n",
    "\n",
    "2x1 + 3x0   &   2x2 + 3x1  \n",
    "3x1 + 5x0   &   3x2 + 5x1  \n",
    "5x1 + 8x0   &   5x2 + 8x1 "
   ]
  },
  {
   "cell_type": "code",
   "execution_count": 6,
   "metadata": {},
   "outputs": [
    {
     "data": {
      "text/plain": [
       "array([[ 2.,  7.],\n",
       "       [ 3., 11.],\n",
       "       [ 5., 18.]])"
      ]
     },
     "execution_count": 6,
     "metadata": {},
     "output_type": "execute_result"
    }
   ],
   "source": [
    "#linear kernel\n",
    "pairwise_kernels(X, Y, metric='linear')"
   ]
  },
  {
   "cell_type": "markdown",
   "metadata": {},
   "source": [
    "Not useful"
   ]
  },
  {
   "cell_type": "markdown",
   "metadata": {},
   "source": [
    "## X only"
   ]
  },
  {
   "cell_type": "code",
   "execution_count": 7,
   "metadata": {},
   "outputs": [
    {
     "data": {
      "text/plain": [
       "<matplotlib.collections.PathCollection at 0x7fd6e3209790>"
      ]
     },
     "execution_count": 7,
     "metadata": {},
     "output_type": "execute_result"
    },
    {
     "data": {
      "image/png": "[encoded data removed]",
      "text/plain": [
       "<Figure size 432x288 with 1 Axes>"
      ]
     },
     "metadata": {
      "needs_background": "light"
     },
     "output_type": "display_data"
    }
   ],
   "source": [
    "plt.scatter(X[:,0], X[:,1], marker='x', c='r')"
   ]
  },
  {
   "cell_type": "markdown",
   "metadata": {},
   "source": [
    "## Pairwise Distances: X only\n",
    "The distances between the row vectors of `X` and the row vectors of `Y` can be evaluated using `pairwise_distances`. If `Y` is omitted the pairwise distances of the row vectors of `X` are calculated. \n",
    "\n",
    "2-2 + 3-3   &   2-3 + 3-5  &  2-5 + 3-8  \n",
    "3-2 + 5-3   &   3-3 + 5-5  &  3-5 + 5-8  \n",
    "5-2 + 8-3   &   5-3 + 8-5  &  5-5 + 8-8  "
   ]
  },
  {
   "cell_type": "code",
   "execution_count": 8,
   "metadata": {},
   "outputs": [
    {
     "data": {
      "text/plain": [
       "array([[0., 3., 8.],\n",
       "       [3., 0., 5.],\n",
       "       [8., 5., 0.]])"
      ]
     },
     "execution_count": 8,
     "metadata": {},
     "output_type": "execute_result"
    }
   ],
   "source": [
    "#manhattan distance\n",
    "pairwise_distances(X, metric='manhattan')"
   ]
  },
  {
   "cell_type": "markdown",
   "metadata": {},
   "source": [
    "Smallest of the three: between X1 and X2 = 3"
   ]
  },
  {
   "cell_type": "markdown",
   "metadata": {},
   "source": [
    "### Pairwise  Kernels: X only\n",
    "Similarly, `pairwise.pairwise_kernels` can be used to calculate the kernel between `X` and `Y` using different kernel functions. See the API reference for more details.\n",
    "\n",
    "2x2 + 3x3   &   2x3 + 3x5   &   2x5 + 3x8  \n",
    "3x2 + 5x3   &   3x3 + 5x5   &   3x5 + 5x8  \n",
    "5x2 + 8x3   &   5x3 + 8x5   &   5x5 + 8x8  \n",
    "\n",
    "https://scikit-learn.org/stable/modules/metrics.html#linear-kernel"
   ]
  },
  {
   "cell_type": "code",
   "execution_count": 9,
   "metadata": {},
   "outputs": [
    {
     "name": "stdout",
     "output_type": "stream",
     "text": [
      "[[13. 21. 34.]\n",
      " [21. 34. 55.]\n",
      " [34. 55. 89.]]\n",
      "Processing time:  0.0015358924865722656\n"
     ]
    }
   ],
   "source": [
    "#linear kernel\n",
    "t0 = time.time()\n",
    "print(pairwise_kernels(X, metric='linear'))\n",
    "print(\"Processing time: \", time.time() - t0)"
   ]
  },
  {
   "cell_type": "markdown",
   "metadata": {},
   "source": [
    "Smallest of the three: between X1 and X2 = 21"
   ]
  },
  {
   "cell_type": "markdown",
   "metadata": {},
   "source": [
    "### Pairwise  Cosine Similarity: X only\n",
    "This kernel is a popular choice for computing the similarity of documents represented as tf-idf vectors.  Computes the L2-normalized dot product of vectors  \n",
    "https://scikit-learn.org/stable/modules/metrics.html#cosine-similarity"
   ]
  },
  {
   "cell_type": "code",
   "execution_count": 10,
   "metadata": {},
   "outputs": [
    {
     "name": "stdout",
     "output_type": "stream",
     "text": [
      "[[1.         0.99886814 0.99956775]\n",
      " [0.99886814 1.         0.99983475]\n",
      " [0.99956775 0.99983475 1.        ]]\n",
      "Processing time:  0.0009889602661132812\n"
     ]
    }
   ],
   "source": [
    "#cosine sim\n",
    "t0 = time.time()\n",
    "print(cosine_similarity(X))\n",
    "print(\"Processing time: \", time.time() - t0)"
   ]
  },
  {
   "cell_type": "markdown",
   "metadata": {},
   "source": [
    "Smallest of the three: between X1 and X2 = 0.99886814"
   ]
  },
  {
   "cell_type": "code",
   "execution_count": null,
   "metadata": {},
   "outputs": [],
   "source": []
  }
 ],
 "metadata": {
  "kernelspec": {
   "display_name": "Python 3",
   "language": "python",
   "name": "python3"
  },
  "language_info": {
   "codemirror_mode": {
    "name": "ipython",
    "version": 3
   },
   "file_extension": ".py",
   "mimetype": "text/x-python",
   "name": "python",
   "nbconvert_exporter": "python",
   "pygments_lexer": "ipython3",
   "version": "3.8.3"
  }
 },
 "nbformat": 4,
 "nbformat_minor": 4
}
