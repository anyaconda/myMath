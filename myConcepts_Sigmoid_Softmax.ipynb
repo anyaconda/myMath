{
 "cells": [
  {
   "cell_type": "code",
   "execution_count": null,
   "metadata": {},
   "outputs": [],
   "source": [
    "#meta 2/23/2022 Math Concepts\n",
    "# visited during course Introduction to TensorFlow\n",
    "# refer to my-tensorflow-2021/my_course_Intro2TF_tensors-variables.ipynb\n",
    "# review: prviously on Sigmoid\n",
    "# refer to myStanfordML_py/ex2_1_LogisticRegression.ipynb\n",
    "\n",
    "#infra: laptop\n",
    "#env: anya_tf2\n",
    "##install tf specific version\n",
    "#pip install --upgrade tensorflow==2.6.3 --user\n",
    "#ensured numpy, pandas, tensorflow versions after installation\n",
    "#numpy 1.19.5, pandas 1.0.3, tensorflow 2.6.3\n",
    "\n",
    "#here\n",
    "#2/23/2022 SIGMOID AND SOFTMAX\n",
    "#      src: https://medium.com/arteos-ai/the-differences-between-sigmoid-and-softmax-activation-function-12adee8cf322#:~:text=Softmax%20is%20used%20for%20multi,Softmax%20function%20looks%20like%20this%3A&text=This%20is%20main%20reason%20why%20the%20Softmax%20is%20cool.\n"
   ]
  },
  {
   "cell_type": "code",
   "execution_count": 13,
   "metadata": {},
   "outputs": [],
   "source": [
    "import math\n",
    "import numpy as np\n",
    "import tensorflow as tf"
   ]
  },
  {
   "cell_type": "markdown",
   "metadata": {},
   "source": [
    "## 0. Warm-up\n",
    "\n",
    "### 0.1 Math"
   ]
  },
  {
   "cell_type": "code",
   "execution_count": 3,
   "metadata": {},
   "outputs": [
    {
     "data": {
      "text/plain": [
       "(2.718281828459045, 2.718281828459045)"
      ]
     },
     "execution_count": 3,
     "metadata": {},
     "output_type": "execute_result"
    }
   ],
   "source": [
    "#$mathcode: expit \n",
    "x=1\n",
    "math.e**(x), np.exp(x) #e which is 2.718281828459045"
   ]
  },
  {
   "cell_type": "markdown",
   "metadata": {},
   "source": [
    "## 1. Sigmoid function\n",
    "\n",
    "The Sigmoid function is a mathematical function with a recognizable “S” shaped curve.  \n",
    "The return value of Sigmoid function is mostly in the range of values between 0 and 1.  \n",
    "\n",
    "$$f(x) = sigmoid(x) = \\frac{1}{1+e^{-x}}$$.\n",
    "\n",
    "![Logistic Curve](images/Logistic-curve.png)"
   ]
  },
  {
   "cell_type": "code",
   "execution_count": 4,
   "metadata": {},
   "outputs": [],
   "source": [
    "def sigmoid(z):\n",
    "    \"\"\" function sigmoid\n",
    "    Input  \n",
    "    z - scalar, vector, or matrix shape (n+1, m)\n",
    "    Output\n",
    "    sigmoid function - scalar, vector or matrix\n",
    "    \"\"\"\n",
    "    \n",
    "    return  1 / (1 + np.exp(-z))"
   ]
  },
  {
   "cell_type": "markdown",
   "metadata": {},
   "source": [
    "Test Sigmoid function: \n",
    " - for large positive values, the sigmoid should be close to 1   \n",
    " - for large negative values, the sigmoid should be close to 0   \n",
    " - evaluating `sigmoid(0)` should give you exactly 0.5"
   ]
  },
  {
   "cell_type": "code",
   "execution_count": 8,
   "metadata": {},
   "outputs": [
    {
     "name": "stderr",
     "output_type": "stream",
     "text": [
      "C:\\Users\\chq-anyac\\AppData\\Roaming\\Python\\Python37\\site-packages\\ipykernel_launcher.py:9: RuntimeWarning: overflow encountered in exp\n",
      "  if __name__ == '__main__':\n"
     ]
    },
    {
     "data": {
      "text/plain": [
       "array([1. , 0.5, 0. ])"
      ]
     },
     "execution_count": 8,
     "metadata": {},
     "output_type": "execute_result"
    }
   ],
   "source": [
    "#verify sigmoid works with scalar, vector and matrix\n",
    "#x = 1\n",
    "x = np.array([1000,0,-1000])\n",
    "#x = np.array([[1000,0,-1000],[10,0,-10]])\n",
    "\n",
    "sigmoid(x)"
   ]
  },
  {
   "cell_type": "code",
   "execution_count": 10,
   "metadata": {},
   "outputs": [
    {
     "data": {
      "image/png": "[encoded data removed]",
      "text/plain": [
       "<Figure size 432x288 with 1 Axes>"
      ]
     },
     "metadata": {
      "needs_background": "light"
     },
     "output_type": "display_data"
    }
   ],
   "source": [
    "#visualize sigmoid function\n",
    "# Plot\n",
    "import matplotlib.pyplot as plt\n",
    "%matplotlib inline\n",
    "from scipy.interpolate import make_interp_spline, BSpline #to smooth the line between points\n",
    "\n",
    "\n",
    "x = np.arange(-20, 20, 1)\n",
    "y = sigmoid(x)\n",
    "\n",
    "#plot smooth sigmoid \n",
    "x_smooth = np.linspace(np.array(x).min(), np.array(x).max(), 50)\n",
    "spl = make_interp_spline(np.array(x), np.array(y), k=3)  # type: BSpline\n",
    "y_smooth = spl(x_smooth)\n",
    "\n",
    "#plot\n",
    "plt.title(\"Sigmoid function\")\n",
    "plt.plot(x, y, 'o')\n",
    "plt.plot(x_smooth, y_smooth, '-')\n",
    "plt.yticks([0,0.5,1])\n",
    "plt.show()"
   ]
  },
  {
   "cell_type": "markdown",
   "metadata": {},
   "source": [
    "## 2. Softmax function\n",
    "Src: Medium blog by Nikola Basta [The Differences between Sigmoid and Softmax Activation Functions](https://medium.com/arteos-ai/the-differences-between-sigmoid-and-softmax-activation-function-12adee8cf322#:~:text=Softmax%20is%20used%20for%20multi,Softmax%20function%20looks%20like%20this%3A&text=This%20is%20main%20reason%20why%20the%20Softmax%20is%20cool.)\n",
    "\n",
    "The Softmax function (aka SoftArgMax or Normalized Exponential function) takes vectors of real numbers as inputs, and normalizes them into a probability distribution proportional to the exponentials of the input numbers. \n",
    "\n",
    "Before applying, some input data could be negative or greater than 1. Also, they might not sum up to 1. After applying Softmax, each element will be in the range of 0 to 1, and the elements will add up to 1. This way, they can be interpreted as a probability distribution. For more clarification, the larger the input number, the larger the probabilities will be.\n",
    "\n",
    "![Softmax function](images/Softmax.png)"
   ]
  },
  {
   "cell_type": "code",
   "execution_count": 15,
   "metadata": {},
   "outputs": [
    {
     "data": {
      "text/plain": [
       "<tf.Tensor: shape=(3,), dtype=float64, numpy=array([0.65900114, 0.24243297, 0.09856589])>"
      ]
     },
     "execution_count": 15,
     "metadata": {},
     "output_type": "execute_result"
    }
   ],
   "source": [
    "X = np.array([2.0, 1.0, 0.1])\n",
    "tf.nn.softmax(X)"
   ]
  },
  {
   "cell_type": "code",
   "execution_count": null,
   "metadata": {},
   "outputs": [],
   "source": []
  }
 ],
 "metadata": {
  "kernelspec": {
   "display_name": "anya_tf2",
   "language": "python",
   "name": "anya_tf2"
  },
  "language_info": {
   "codemirror_mode": {
    "name": "ipython",
    "version": 3
   },
   "file_extension": ".py",
   "mimetype": "text/x-python",
   "name": "python",
   "nbconvert_exporter": "python",
   "pygments_lexer": "ipython3",
   "version": "3.7.4"
  }
 },
 "nbformat": 4,
 "nbformat_minor": 4
}
